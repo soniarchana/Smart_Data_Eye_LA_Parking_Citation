{
 "cells": [
  {
   "cell_type": "code",
   "execution_count": 1,
   "metadata": {},
   "outputs": [],
   "source": [
    "import pandas as pd\n",
    "import numpy as np\n",
    "import seaborn as sns\n",
    "import matplotlib.pyplot as plt\n",
    "%matplotlib inline\n",
    "import math"
   ]
  },
  {
   "cell_type": "code",
   "execution_count": 2,
   "metadata": {},
   "outputs": [
    {
     "data": {
      "text/html": [
       "<div>\n",
       "<style scoped>\n",
       "    .dataframe tbody tr th:only-of-type {\n",
       "        vertical-align: middle;\n",
       "    }\n",
       "\n",
       "    .dataframe tbody tr th {\n",
       "        vertical-align: top;\n",
       "    }\n",
       "\n",
       "    .dataframe thead th {\n",
       "        text-align: right;\n",
       "    }\n",
       "</style>\n",
       "<table border=\"1\" class=\"dataframe\">\n",
       "  <thead>\n",
       "    <tr style=\"text-align: right;\">\n",
       "      <th></th>\n",
       "      <th>Unnamed: 0</th>\n",
       "      <th>Issue_Time</th>\n",
       "      <th>Color</th>\n",
       "      <th>Make</th>\n",
       "      <th>Route</th>\n",
       "      <th>Fine_Amount</th>\n",
       "      <th>Binned</th>\n",
       "    </tr>\n",
       "  </thead>\n",
       "  <tbody>\n",
       "    <tr>\n",
       "      <th>0</th>\n",
       "      <td>149410</td>\n",
       "      <td>1041.0</td>\n",
       "      <td>GY</td>\n",
       "      <td>BMW</td>\n",
       "      <td>00495</td>\n",
       "      <td>63.0</td>\n",
       "      <td>4</td>\n",
       "    </tr>\n",
       "    <tr>\n",
       "      <th>1</th>\n",
       "      <td>4470008</td>\n",
       "      <td>156.0</td>\n",
       "      <td>SI</td>\n",
       "      <td>TOYO</td>\n",
       "      <td>00403</td>\n",
       "      <td>25.0</td>\n",
       "      <td>1</td>\n",
       "    </tr>\n",
       "    <tr>\n",
       "      <th>2</th>\n",
       "      <td>3940756</td>\n",
       "      <td>715.0</td>\n",
       "      <td>BK</td>\n",
       "      <td>HYUN</td>\n",
       "      <td>00500</td>\n",
       "      <td>25.0</td>\n",
       "      <td>1</td>\n",
       "    </tr>\n",
       "    <tr>\n",
       "      <th>3</th>\n",
       "      <td>4168751</td>\n",
       "      <td>2205.0</td>\n",
       "      <td>SL</td>\n",
       "      <td>HOND</td>\n",
       "      <td>00600</td>\n",
       "      <td>68.0</td>\n",
       "      <td>4</td>\n",
       "    </tr>\n",
       "    <tr>\n",
       "      <th>4</th>\n",
       "      <td>5043602</td>\n",
       "      <td>1329.0</td>\n",
       "      <td>SL</td>\n",
       "      <td>LEXS</td>\n",
       "      <td>360R1</td>\n",
       "      <td>58.0</td>\n",
       "      <td>3</td>\n",
       "    </tr>\n",
       "  </tbody>\n",
       "</table>\n",
       "</div>"
      ],
      "text/plain": [
       "   Unnamed: 0  Issue_Time Color  Make  Route  Fine_Amount  Binned\n",
       "0      149410      1041.0    GY   BMW  00495         63.0       4\n",
       "1     4470008       156.0    SI  TOYO  00403         25.0       1\n",
       "2     3940756       715.0    BK  HYUN  00500         25.0       1\n",
       "3     4168751      2205.0    SL  HOND  00600         68.0       4\n",
       "4     5043602      1329.0    SL  LEXS  360R1         58.0       3"
      ]
     },
     "execution_count": 2,
     "metadata": {},
     "output_type": "execute_result"
    }
   ],
   "source": [
    "# Hide warning messages in notebook\n",
    "import warnings\n",
    "warnings.filterwarnings('ignore')\n",
    "\n",
    "pc_dataset = pd.read_csv(\"../data/PC_modelData10K.csv\")\n",
    "pc_dataset.head()"
   ]
  },
  {
   "cell_type": "code",
   "execution_count": 3,
   "metadata": {},
   "outputs": [
    {
     "name": "stdout",
     "output_type": "stream",
     "text": [
      "Number of columns before:7\n",
      "Number of columns after :6\n"
     ]
    },
    {
     "data": {
      "text/html": [
       "<div>\n",
       "<style scoped>\n",
       "    .dataframe tbody tr th:only-of-type {\n",
       "        vertical-align: middle;\n",
       "    }\n",
       "\n",
       "    .dataframe tbody tr th {\n",
       "        vertical-align: top;\n",
       "    }\n",
       "\n",
       "    .dataframe thead th {\n",
       "        text-align: right;\n",
       "    }\n",
       "</style>\n",
       "<table border=\"1\" class=\"dataframe\">\n",
       "  <thead>\n",
       "    <tr style=\"text-align: right;\">\n",
       "      <th></th>\n",
       "      <th>Issue_Time</th>\n",
       "      <th>Color</th>\n",
       "      <th>Make</th>\n",
       "      <th>Route</th>\n",
       "      <th>Fine_Amount</th>\n",
       "      <th>Binned</th>\n",
       "    </tr>\n",
       "  </thead>\n",
       "  <tbody>\n",
       "    <tr>\n",
       "      <th>0</th>\n",
       "      <td>1041.0</td>\n",
       "      <td>GY</td>\n",
       "      <td>BMW</td>\n",
       "      <td>00495</td>\n",
       "      <td>63.0</td>\n",
       "      <td>4</td>\n",
       "    </tr>\n",
       "    <tr>\n",
       "      <th>1</th>\n",
       "      <td>156.0</td>\n",
       "      <td>SI</td>\n",
       "      <td>TOYO</td>\n",
       "      <td>00403</td>\n",
       "      <td>25.0</td>\n",
       "      <td>1</td>\n",
       "    </tr>\n",
       "    <tr>\n",
       "      <th>2</th>\n",
       "      <td>715.0</td>\n",
       "      <td>BK</td>\n",
       "      <td>HYUN</td>\n",
       "      <td>00500</td>\n",
       "      <td>25.0</td>\n",
       "      <td>1</td>\n",
       "    </tr>\n",
       "    <tr>\n",
       "      <th>3</th>\n",
       "      <td>2205.0</td>\n",
       "      <td>SL</td>\n",
       "      <td>HOND</td>\n",
       "      <td>00600</td>\n",
       "      <td>68.0</td>\n",
       "      <td>4</td>\n",
       "    </tr>\n",
       "    <tr>\n",
       "      <th>4</th>\n",
       "      <td>1329.0</td>\n",
       "      <td>SL</td>\n",
       "      <td>LEXS</td>\n",
       "      <td>360R1</td>\n",
       "      <td>58.0</td>\n",
       "      <td>3</td>\n",
       "    </tr>\n",
       "  </tbody>\n",
       "</table>\n",
       "</div>"
      ],
      "text/plain": [
       "   Issue_Time Color  Make  Route  Fine_Amount  Binned\n",
       "0      1041.0    GY   BMW  00495         63.0       4\n",
       "1       156.0    SI  TOYO  00403         25.0       1\n",
       "2       715.0    BK  HYUN  00500         25.0       1\n",
       "3      2205.0    SL  HOND  00600         68.0       4\n",
       "4      1329.0    SL  LEXS  360R1         58.0       3"
      ]
     },
     "execution_count": 3,
     "metadata": {},
     "output_type": "execute_result"
    }
   ],
   "source": [
    "# Dropping an column not needed \n",
    "print('Number of columns before:{}'.format(len(pc_dataset.columns)))\n",
    "pc_dataset.drop('Unnamed: 0', axis=1, inplace=True)\n",
    "print('Number of columns after :{}'.format(len(pc_dataset.columns)))\n",
    "pc_dataset.head()"
   ]
  },
  {
   "cell_type": "code",
   "execution_count": 4,
   "metadata": {},
   "outputs": [
    {
     "data": {
      "text/plain": [
       "(10000, 5)"
      ]
     },
     "execution_count": 4,
     "metadata": {},
     "output_type": "execute_result"
    }
   ],
   "source": [
    "# Temporarily removing Issue_time from model.\n",
    "pc_dataset = pc_dataset[[\"Color\", \"Make\", \"Route\", \"Fine_Amount\", \"Binned\"]]\n",
    "pc_dataset.shape"
   ]
  },
  {
   "cell_type": "code",
   "execution_count": 5,
   "metadata": {},
   "outputs": [
    {
     "name": "stdout",
     "output_type": "stream",
     "text": [
      "(10000, 4) (10000, 1)\n"
     ]
    }
   ],
   "source": [
    "# Predicting the \"Fine Amount\" based on the Color\", \"Make\", \"Route\"\n",
    "\n",
    "Col = [\"Color\",\"Make\",\"Route\",\"Fine_Amount\"]\n",
    "X = pc_dataset[Col]\n",
    "y = pc_dataset[\"Binned\"].values.reshape(-1,1)\n",
    "print(X.shape, y.shape)\n"
   ]
  },
  {
   "cell_type": "code",
   "execution_count": 6,
   "metadata": {},
   "outputs": [
    {
     "name": "stdout",
     "output_type": "stream",
     "text": [
      "X Shape: (10000, 773)\n",
      "y Shape: (10000, 1)\n",
      "\n",
      "X_train Shape: (7500, 773)\n",
      "y_train Shape: (7500, 1)\n",
      "\n",
      "X_test Shape: (2500, 773)\n",
      "y_test Shape: (2500, 1)\n"
     ]
    },
    {
     "name": "stderr",
     "output_type": "stream",
     "text": [
      "/anaconda3/lib/python3.6/site-packages/sklearn/cross_validation.py:41: DeprecationWarning: This module was deprecated in version 0.18 in favor of the model_selection module into which all the refactored classes and functions are moved. Also note that the interface of the new CV iterators are different from that of this module. This module will be removed in 0.20.\n",
      "  \"This module will be removed in 0.20.\", DeprecationWarning)\n"
     ]
    },
    {
     "data": {
      "text/html": [
       "<div>\n",
       "<style scoped>\n",
       "    .dataframe tbody tr th:only-of-type {\n",
       "        vertical-align: middle;\n",
       "    }\n",
       "\n",
       "    .dataframe tbody tr th {\n",
       "        vertical-align: top;\n",
       "    }\n",
       "\n",
       "    .dataframe thead th {\n",
       "        text-align: right;\n",
       "    }\n",
       "</style>\n",
       "<table border=\"1\" class=\"dataframe\">\n",
       "  <thead>\n",
       "    <tr style=\"text-align: right;\">\n",
       "      <th></th>\n",
       "      <th>Fine_Amount</th>\n",
       "      <th>Color_BE</th>\n",
       "      <th>Color_BG</th>\n",
       "      <th>Color_BK</th>\n",
       "      <th>Color_BL</th>\n",
       "      <th>Color_BN</th>\n",
       "      <th>Color_BR</th>\n",
       "      <th>Color_BU</th>\n",
       "      <th>Color_CO</th>\n",
       "      <th>Color_GN</th>\n",
       "      <th>...</th>\n",
       "      <th>Route_BEV</th>\n",
       "      <th>Route_FTHL</th>\n",
       "      <th>Route_M29</th>\n",
       "      <th>Route_MQ</th>\n",
       "      <th>Route_MQ111</th>\n",
       "      <th>Route_MQ88</th>\n",
       "      <th>Route_PAT</th>\n",
       "      <th>Route_PT</th>\n",
       "      <th>Route_TE</th>\n",
       "      <th>Route_WIL</th>\n",
       "    </tr>\n",
       "  </thead>\n",
       "  <tbody>\n",
       "    <tr>\n",
       "      <th>757</th>\n",
       "      <td>63.0</td>\n",
       "      <td>0</td>\n",
       "      <td>0</td>\n",
       "      <td>0</td>\n",
       "      <td>0</td>\n",
       "      <td>0</td>\n",
       "      <td>0</td>\n",
       "      <td>0</td>\n",
       "      <td>0</td>\n",
       "      <td>0</td>\n",
       "      <td>...</td>\n",
       "      <td>0</td>\n",
       "      <td>0</td>\n",
       "      <td>0</td>\n",
       "      <td>0</td>\n",
       "      <td>0</td>\n",
       "      <td>0</td>\n",
       "      <td>0</td>\n",
       "      <td>0</td>\n",
       "      <td>0</td>\n",
       "      <td>0</td>\n",
       "    </tr>\n",
       "    <tr>\n",
       "      <th>1003</th>\n",
       "      <td>68.0</td>\n",
       "      <td>0</td>\n",
       "      <td>0</td>\n",
       "      <td>0</td>\n",
       "      <td>0</td>\n",
       "      <td>0</td>\n",
       "      <td>0</td>\n",
       "      <td>0</td>\n",
       "      <td>0</td>\n",
       "      <td>0</td>\n",
       "      <td>...</td>\n",
       "      <td>0</td>\n",
       "      <td>0</td>\n",
       "      <td>0</td>\n",
       "      <td>0</td>\n",
       "      <td>0</td>\n",
       "      <td>0</td>\n",
       "      <td>0</td>\n",
       "      <td>0</td>\n",
       "      <td>0</td>\n",
       "      <td>0</td>\n",
       "    </tr>\n",
       "    <tr>\n",
       "      <th>8089</th>\n",
       "      <td>73.0</td>\n",
       "      <td>0</td>\n",
       "      <td>0</td>\n",
       "      <td>1</td>\n",
       "      <td>0</td>\n",
       "      <td>0</td>\n",
       "      <td>0</td>\n",
       "      <td>0</td>\n",
       "      <td>0</td>\n",
       "      <td>0</td>\n",
       "      <td>...</td>\n",
       "      <td>0</td>\n",
       "      <td>0</td>\n",
       "      <td>0</td>\n",
       "      <td>0</td>\n",
       "      <td>0</td>\n",
       "      <td>0</td>\n",
       "      <td>0</td>\n",
       "      <td>0</td>\n",
       "      <td>0</td>\n",
       "      <td>0</td>\n",
       "    </tr>\n",
       "    <tr>\n",
       "      <th>2967</th>\n",
       "      <td>68.0</td>\n",
       "      <td>0</td>\n",
       "      <td>0</td>\n",
       "      <td>0</td>\n",
       "      <td>0</td>\n",
       "      <td>0</td>\n",
       "      <td>0</td>\n",
       "      <td>0</td>\n",
       "      <td>0</td>\n",
       "      <td>0</td>\n",
       "      <td>...</td>\n",
       "      <td>0</td>\n",
       "      <td>0</td>\n",
       "      <td>0</td>\n",
       "      <td>0</td>\n",
       "      <td>0</td>\n",
       "      <td>0</td>\n",
       "      <td>0</td>\n",
       "      <td>0</td>\n",
       "      <td>0</td>\n",
       "      <td>0</td>\n",
       "    </tr>\n",
       "    <tr>\n",
       "      <th>5011</th>\n",
       "      <td>73.0</td>\n",
       "      <td>0</td>\n",
       "      <td>0</td>\n",
       "      <td>0</td>\n",
       "      <td>0</td>\n",
       "      <td>0</td>\n",
       "      <td>0</td>\n",
       "      <td>0</td>\n",
       "      <td>0</td>\n",
       "      <td>0</td>\n",
       "      <td>...</td>\n",
       "      <td>0</td>\n",
       "      <td>0</td>\n",
       "      <td>0</td>\n",
       "      <td>0</td>\n",
       "      <td>0</td>\n",
       "      <td>0</td>\n",
       "      <td>0</td>\n",
       "      <td>0</td>\n",
       "      <td>0</td>\n",
       "      <td>0</td>\n",
       "    </tr>\n",
       "  </tbody>\n",
       "</table>\n",
       "<p>5 rows × 773 columns</p>\n",
       "</div>"
      ],
      "text/plain": [
       "      Fine_Amount  Color_BE  Color_BG  Color_BK  Color_BL  Color_BN  Color_BR  \\\n",
       "757          63.0         0         0         0         0         0         0   \n",
       "1003         68.0         0         0         0         0         0         0   \n",
       "8089         73.0         0         0         1         0         0         0   \n",
       "2967         68.0         0         0         0         0         0         0   \n",
       "5011         73.0         0         0         0         0         0         0   \n",
       "\n",
       "      Color_BU  Color_CO  Color_GN    ...      Route_BEV  Route_FTHL  \\\n",
       "757          0         0         0    ...              0           0   \n",
       "1003         0         0         0    ...              0           0   \n",
       "8089         0         0         0    ...              0           0   \n",
       "2967         0         0         0    ...              0           0   \n",
       "5011         0         0         0    ...              0           0   \n",
       "\n",
       "      Route_M29  Route_MQ  Route_MQ111  Route_MQ88  Route_PAT  Route_PT  \\\n",
       "757           0         0            0           0          0         0   \n",
       "1003          0         0            0           0          0         0   \n",
       "8089          0         0            0           0          0         0   \n",
       "2967          0         0            0           0          0         0   \n",
       "5011          0         0            0           0          0         0   \n",
       "\n",
       "      Route_TE  Route_WIL  \n",
       "757          0          0  \n",
       "1003         0          0  \n",
       "8089         0          0  \n",
       "2967         0          0  \n",
       "5011         0          0  \n",
       "\n",
       "[5 rows x 773 columns]"
      ]
     },
     "execution_count": 6,
     "metadata": {},
     "output_type": "execute_result"
    }
   ],
   "source": [
    "# from sklearn.model_selection import train_test_split\n",
    "from sklearn.cross_validation import train_test_split\n",
    "\n",
    "\n",
    "X = pd.get_dummies(X)\n",
    "X_train, X_test, y_train, y_test = train_test_split(X, y, test_size=0.25, random_state=31)\n",
    "print(\"X Shape:\", X.shape)\n",
    "print(\"y Shape:\", y.shape)\n",
    "\n",
    "print(\"\\nX_train Shape:\", X_train.shape)\n",
    "print(\"y_train Shape:\", y_train.shape)\n",
    "print(\"\\nX_test Shape:\", X_test.shape)\n",
    "print(\"y_test Shape:\", y_test.shape)\n",
    "\n",
    "\n",
    "X.head()\n",
    "# X_train.head()\n",
    "# y_train\n",
    "X_test.head()\n",
    "\n",
    "\n",
    "\n",
    "\n",
    "# X Shape: (10000, 783)\n",
    "# y Shape: (10000, 1)\n",
    "# X Shape: (500000, 2746)\n",
    "# X Shape: (100000, 1647)"
   ]
  },
  {
   "cell_type": "code",
   "execution_count": 27,
   "metadata": {},
   "outputs": [],
   "source": [
    "# Check to see if Scaling/Normalize will help for our data\n",
    "# Scaling/Normalize data since many algorithms will perform better with a normalized or scaled dataset\n",
    "# We are using standardscaler assuming we do not know anything about the data\n",
    "\n",
    "from sklearn.preprocessing import StandardScaler\n",
    "X_scaler = StandardScaler().fit(X_train)\n",
    "y_scaler = StandardScaler().fit(y_train)"
   ]
  },
  {
   "cell_type": "code",
   "execution_count": 28,
   "metadata": {},
   "outputs": [],
   "source": [
    "X_train_scaled = X_scaler.transform(X_train)\n",
    "X_test_scaled = X_scaler.transform(X_test)\n",
    "y_train_scaled = y_scaler.transform(y_train)\n",
    "y_test_scaled = y_scaler.transform(y_test)"
   ]
  },
  {
   "cell_type": "code",
   "execution_count": 30,
   "metadata": {
    "scrolled": true
   },
   "outputs": [
    {
     "data": {
      "image/png": "[encoded data removed]",
      "text/plain": [
       "<Figure size 1080x504 with 2 Axes>"
      ]
     },
     "metadata": {},
     "output_type": "display_data"
    }
   ],
   "source": [
    "# Plotting Original Data Vs. Scaled Data\n",
    "# Conclusion: Since the scaled data is not showing better curve we will go with our original data for our dataset.\n",
    "\n",
    "fig1 = plt.figure(figsize=(15, 7))\n",
    "axes1 = fig1.add_subplot(1, 2, 1)\n",
    "axes2 = fig1.add_subplot(1, 2, 2)\n",
    "\n",
    "axes1.set_title(\"Original Dataset\")\n",
    "axes2.set_title(\"Scaled Dataset\")\n",
    "\n",
    "maxx = X_train[\"Fine_Amount\"].max()\n",
    "maxy = y_train.max()\n",
    "axes1.set_xlim(-maxx + 1, maxx + 1)\n",
    "axes1.set_ylim(-maxy + 1, maxy + 1)\n",
    "\n",
    "axes2.set_xlim(-2, 2)\n",
    "axes2.set_ylim(-2, 2)\n",
    "\n",
    "def set_axes(ax):\n",
    "    ax.spines['left'].set_position('center')\n",
    "    ax.spines['right'].set_color('none')\n",
    "    ax.spines['bottom'].set_position('center')\n",
    "    ax.spines['top'].set_color('none')\n",
    "    ax.xaxis.set_ticks_position('bottom')\n",
    "    ax.yaxis.set_ticks_position('left')\n",
    "    \n",
    "set_axes(axes1)\n",
    "set_axes(axes2)\n",
    "\n",
    "axes1.scatter(X_train[\"Fine_Amount\"], y_train)\n",
    "axes2.scatter(X_train_scaled[:,0], y_train_scaled[:]) \n",
    "\n",
    "plt.savefig(\"../imgs/Original_vs_Scaled.png\",bbox_inches='tight')\n"
   ]
  },
  {
   "cell_type": "code",
   "execution_count": 31,
   "metadata": {},
   "outputs": [
    {
     "data": {
      "image/png": "[encoded data removed]",
      "text/plain": [
       "<Figure size 432x288 with 1 Axes>"
      ]
     },
     "metadata": {},
     "output_type": "display_data"
    }
   ],
   "source": [
    "# Defining the Model using scaled data\n",
    "from sklearn.linear_model import LinearRegression\n",
    "model = LinearRegression()\n",
    "\n",
    "# Fit the model to training data\n",
    "model.fit(X_train_scaled, y_train_scaled)\n",
    "\n",
    "# Plot the results \n",
    "plt.scatter(model.predict(X_train_scaled), model.predict(X_train_scaled) - y_train_scaled, c=\"blue\", label=\"Training Data\")\n",
    "plt.scatter(model.predict(X_test_scaled), model.predict(X_test_scaled) - y_test_scaled, c=\"orange\", label=\"Testing Data\")\n",
    "plt.legend()\n",
    "plt.hlines(y=0, xmin=y_test_scaled.min(), xmax=y_test_scaled.max())\n",
    "plt.title(\"Residual Plot\")\n",
    "plt.savefig(\"../imgs/Scaled_ResidualPlot.png\",bbox_inches='tight')\n",
    "plt.show()"
   ]
  },
  {
   "cell_type": "code",
   "execution_count": 32,
   "metadata": {},
   "outputs": [
    {
     "name": "stdout",
     "output_type": "stream",
     "text": [
      "MSE: 4.7008518657327596e+23, R2: -4.761323999678819e+23\n"
     ]
    }
   ],
   "source": [
    "# Quantify the model using scaled data\n",
    "\n",
    "from sklearn.metrics import mean_squared_error\n",
    "\n",
    "predictions = model.predict(X_test_scaled)\n",
    "MSE = mean_squared_error(y_test_scaled, predictions)\n",
    "r2 = model.score(X_test_scaled, y_test_scaled)\n",
    "\n",
    "print(f\"MSE: {MSE}, R2: {r2}\") \n",
    "# For 10K  : MSE: 5.231363155118241e+24, R2: -5.349574732432915e+24\n",
    "# For 100K : MSE: 2.2846531476641436e+25, R2: -2.2627489155412134e+25\n",
    "# For 200K : MSE: 9.444270954625202e+23, R2: -9.459198898462764e+23 \n",
    "# For 500K : MSE: 3.3327266949906473e+22, R2: -3.3494385209052305e+22"
   ]
  },
  {
   "cell_type": "code",
   "execution_count": 7,
   "metadata": {},
   "outputs": [
    {
     "data": {
      "image/png": "[encoded data removed]",
      "text/plain": [
       "<Figure size 432x288 with 1 Axes>"
      ]
     },
     "metadata": {},
     "output_type": "display_data"
    }
   ],
   "source": [
    "# Defining the Model using original dataset\n",
    "from sklearn.linear_model import LinearRegression\n",
    "model = LinearRegression()\n",
    "\n",
    "# Fit the model to training data\n",
    "model.fit(X_train, y_train)\n",
    "\n",
    "# Plot the results \n",
    "plt.scatter(model.predict(X_train), model.predict(X_train) - y_train, c=\"green\", label=\"Training Data\")\n",
    "plt.scatter(model.predict(X_test), model.predict(X_test) - y_test, c=\"pink\", label=\"Testing Data\")\n",
    "plt.legend()\n",
    "plt.hlines(y=0, xmin=y_test.min(), xmax=y_test.max())\n",
    "plt.title(\"Residual Plot\")\n",
    "plt.savefig(\"../imgs/ResidualPlot.png\",bbox_inches='tight')\n",
    "plt.show()"
   ]
  },
  {
   "cell_type": "code",
   "execution_count": 8,
   "metadata": {},
   "outputs": [
    {
     "name": "stdout",
     "output_type": "stream",
     "text": [
      "For original dataset MSE: 0.7850452882243407, R2: 0.5829670269168574\n"
     ]
    }
   ],
   "source": [
    "# Quantify the model using original dataset\n",
    "\n",
    "from sklearn.metrics import mean_squared_error\n",
    "\n",
    "predictions = model.predict(X_test)\n",
    "MSE = mean_squared_error(y_test, predictions)\n",
    "r2 = model.score(X_test, y_test)\n",
    "\n",
    "print(f\"For original dataset MSE: {MSE}, R2: {r2}\") \n",
    "\n",
    "\n",
    "# For  10K : For original dataset MSE: 0.7856541054826144, R2: 0.574420483883838\n",
    "# For 100K : For original dataset MSE: 4.138585079957473e+16, R2: -2.17935748720676e+16\n",
    "# For 200K : For original dataset MSE: 54652818984716.984, R2: -28832627577394.305\n",
    "# For 500K : For original dataset MSE: 117466160175206.25, R2: -62393824151098.47\n"
   ]
  },
  {
   "cell_type": "code",
   "execution_count": 11,
   "metadata": {},
   "outputs": [],
   "source": [
    "df1 =pd.DataFrame({\"Prediction\": predictions.flatten(), \"Actual\": y_test.flatten() })"
   ]
  },
  {
   "cell_type": "code",
   "execution_count": 12,
   "metadata": {
    "scrolled": true
   },
   "outputs": [
    {
     "data": {
      "text/html": [
       "<div>\n",
       "<style scoped>\n",
       "    .dataframe tbody tr th:only-of-type {\n",
       "        vertical-align: middle;\n",
       "    }\n",
       "\n",
       "    .dataframe tbody tr th {\n",
       "        vertical-align: top;\n",
       "    }\n",
       "\n",
       "    .dataframe thead th {\n",
       "        text-align: right;\n",
       "    }\n",
       "</style>\n",
       "<table border=\"1\" class=\"dataframe\">\n",
       "  <thead>\n",
       "    <tr style=\"text-align: right;\">\n",
       "      <th></th>\n",
       "      <th>Prediction</th>\n",
       "      <th>Actual</th>\n",
       "    </tr>\n",
       "  </thead>\n",
       "  <tbody>\n",
       "    <tr>\n",
       "      <th>0</th>\n",
       "      <td>3.958865</td>\n",
       "      <td>4</td>\n",
       "    </tr>\n",
       "    <tr>\n",
       "      <th>1</th>\n",
       "      <td>4.162611</td>\n",
       "      <td>4</td>\n",
       "    </tr>\n",
       "    <tr>\n",
       "      <th>2</th>\n",
       "      <td>4.952776</td>\n",
       "      <td>5</td>\n",
       "    </tr>\n",
       "    <tr>\n",
       "      <th>3</th>\n",
       "      <td>4.153161</td>\n",
       "      <td>4</td>\n",
       "    </tr>\n",
       "    <tr>\n",
       "      <th>4</th>\n",
       "      <td>4.439991</td>\n",
       "      <td>5</td>\n",
       "    </tr>\n",
       "  </tbody>\n",
       "</table>\n",
       "</div>"
      ],
      "text/plain": [
       "   Prediction  Actual\n",
       "0    3.958865       4\n",
       "1    4.162611       4\n",
       "2    4.952776       5\n",
       "3    4.153161       4\n",
       "4    4.439991       5"
      ]
     },
     "execution_count": 12,
     "metadata": {},
     "output_type": "execute_result"
    }
   ],
   "source": [
    "df1.head()"
   ]
  },
  {
   "cell_type": "code",
   "execution_count": 13,
   "metadata": {},
   "outputs": [
    {
     "data": {
      "text/plain": [
       "0.712242596766"
      ]
     },
     "execution_count": 13,
     "metadata": {},
     "output_type": "execute_result"
    }
   ],
   "source": [
    "# Checking the accuracy of model for sample data\n",
    "\n",
    "from sklearn.metrics import explained_variance_score\n",
    "y_true = [4, 4, 5, 4,5]\n",
    "y_pred = [3.958865,4.162611,4.952776,4.153161,4.439991]\n",
    "explained_variance_score(y_true, y_pred)  "
   ]
  },
  {
   "cell_type": "code",
   "execution_count": 37,
   "metadata": {},
   "outputs": [
    {
     "data": {
      "text/html": [
       "<div>\n",
       "<style scoped>\n",
       "    .dataframe tbody tr th:only-of-type {\n",
       "        vertical-align: middle;\n",
       "    }\n",
       "\n",
       "    .dataframe tbody tr th {\n",
       "        vertical-align: top;\n",
       "    }\n",
       "\n",
       "    .dataframe thead th {\n",
       "        text-align: right;\n",
       "    }\n",
       "</style>\n",
       "<table border=\"1\" class=\"dataframe\">\n",
       "  <thead>\n",
       "    <tr style=\"text-align: right;\">\n",
       "      <th></th>\n",
       "      <th>FineRange</th>\n",
       "      <th>Catagory</th>\n",
       "    </tr>\n",
       "  </thead>\n",
       "  <tbody>\n",
       "    <tr>\n",
       "      <th>0</th>\n",
       "      <td>10-20</td>\n",
       "      <td>0</td>\n",
       "    </tr>\n",
       "    <tr>\n",
       "      <th>1</th>\n",
       "      <td>21-30</td>\n",
       "      <td>1</td>\n",
       "    </tr>\n",
       "    <tr>\n",
       "      <th>2</th>\n",
       "      <td>31-50</td>\n",
       "      <td>2</td>\n",
       "    </tr>\n",
       "    <tr>\n",
       "      <th>3</th>\n",
       "      <td>51-60</td>\n",
       "      <td>3</td>\n",
       "    </tr>\n",
       "    <tr>\n",
       "      <th>4</th>\n",
       "      <td>61-70</td>\n",
       "      <td>4</td>\n",
       "    </tr>\n",
       "    <tr>\n",
       "      <th>5</th>\n",
       "      <td>71-80</td>\n",
       "      <td>5</td>\n",
       "    </tr>\n",
       "    <tr>\n",
       "      <th>6</th>\n",
       "      <td>81-100</td>\n",
       "      <td>6</td>\n",
       "    </tr>\n",
       "    <tr>\n",
       "      <th>7</th>\n",
       "      <td>101-250</td>\n",
       "      <td>7</td>\n",
       "    </tr>\n",
       "    <tr>\n",
       "      <th>8</th>\n",
       "      <td>251-505</td>\n",
       "      <td>8</td>\n",
       "    </tr>\n",
       "  </tbody>\n",
       "</table>\n",
       "</div>"
      ],
      "text/plain": [
       "  FineRange  Catagory\n",
       "0     10-20         0\n",
       "1     21-30         1\n",
       "2     31-50         2\n",
       "3     51-60         3\n",
       "4     61-70         4\n",
       "5     71-80         5\n",
       "6    81-100         6\n",
       "7   101-250         7\n",
       "8   251-505         8"
      ]
     },
     "execution_count": 37,
     "metadata": {},
     "output_type": "execute_result"
    }
   ],
   "source": [
    "RawData ={\"FineRange\":['10-20', '21-30', '31-50', '51-60', '61-70','71-80', '81-100', '101-250','251-505'],\n",
    "          \"Catagory\" :[0, 1, 2, 3, 4, 5, 6, 7, 8 ] }\n",
    "df_FineRange = pd.DataFrame(RawData, columns = [\"FineRange\",\"Catagory\"])\n",
    "df_FineRange\n"
   ]
  },
  {
   "cell_type": "code",
   "execution_count": 38,
   "metadata": {},
   "outputs": [
    {
     "name": "stdout",
     "output_type": "stream",
     "text": [
      "\n",
      "Let's looks at sample prediction below data:\n"
     ]
    },
    {
     "data": {
      "text/plain": [
       "Color             GY\n",
       "Make            FORD\n",
       "Route          00400\n",
       "Fine_Amount       68\n",
       "Binned             4\n",
       "Name: 1003, dtype: object"
      ]
     },
     "execution_count": 38,
     "metadata": {},
     "output_type": "execute_result"
    }
   ],
   "source": [
    "print(\"\\nLet's looks at sample prediction below data:\")\n",
    "lc=1003   # 2967\n",
    "pc_dataset.loc[lc]"
   ]
  },
  {
   "cell_type": "code",
   "execution_count": 39,
   "metadata": {},
   "outputs": [
    {
     "name": "stdout",
     "output_type": "stream",
     "text": [
      "X_test data for this row is :\n"
     ]
    },
    {
     "data": {
      "text/html": [
       "<div>\n",
       "<style scoped>\n",
       "    .dataframe tbody tr th:only-of-type {\n",
       "        vertical-align: middle;\n",
       "    }\n",
       "\n",
       "    .dataframe tbody tr th {\n",
       "        vertical-align: top;\n",
       "    }\n",
       "\n",
       "    .dataframe thead th {\n",
       "        text-align: right;\n",
       "    }\n",
       "</style>\n",
       "<table border=\"1\" class=\"dataframe\">\n",
       "  <thead>\n",
       "    <tr style=\"text-align: right;\">\n",
       "      <th></th>\n",
       "      <th>Fine_Amount</th>\n",
       "      <th>Color_BE</th>\n",
       "      <th>Color_BG</th>\n",
       "      <th>Color_BK</th>\n",
       "      <th>Color_BL</th>\n",
       "      <th>Color_BN</th>\n",
       "      <th>Color_BR</th>\n",
       "      <th>Color_BU</th>\n",
       "      <th>Color_CO</th>\n",
       "      <th>Color_GN</th>\n",
       "      <th>...</th>\n",
       "      <th>Route_BEV</th>\n",
       "      <th>Route_FTHL</th>\n",
       "      <th>Route_M29</th>\n",
       "      <th>Route_MQ</th>\n",
       "      <th>Route_MQ111</th>\n",
       "      <th>Route_MQ88</th>\n",
       "      <th>Route_PAT</th>\n",
       "      <th>Route_PT</th>\n",
       "      <th>Route_TE</th>\n",
       "      <th>Route_WIL</th>\n",
       "    </tr>\n",
       "  </thead>\n",
       "  <tbody>\n",
       "    <tr>\n",
       "      <th>1003</th>\n",
       "      <td>68.0</td>\n",
       "      <td>0</td>\n",
       "      <td>0</td>\n",
       "      <td>0</td>\n",
       "      <td>0</td>\n",
       "      <td>0</td>\n",
       "      <td>0</td>\n",
       "      <td>0</td>\n",
       "      <td>0</td>\n",
       "      <td>0</td>\n",
       "      <td>...</td>\n",
       "      <td>0</td>\n",
       "      <td>0</td>\n",
       "      <td>0</td>\n",
       "      <td>0</td>\n",
       "      <td>0</td>\n",
       "      <td>0</td>\n",
       "      <td>0</td>\n",
       "      <td>0</td>\n",
       "      <td>0</td>\n",
       "      <td>0</td>\n",
       "    </tr>\n",
       "  </tbody>\n",
       "</table>\n",
       "<p>1 rows × 773 columns</p>\n",
       "</div>"
      ],
      "text/plain": [
       "      Fine_Amount  Color_BE  Color_BG  Color_BK  Color_BL  Color_BN  Color_BR  \\\n",
       "1003         68.0         0         0         0         0         0         0   \n",
       "\n",
       "      Color_BU  Color_CO  Color_GN    ...      Route_BEV  Route_FTHL  \\\n",
       "1003         0         0         0    ...              0           0   \n",
       "\n",
       "      Route_M29  Route_MQ  Route_MQ111  Route_MQ88  Route_PAT  Route_PT  \\\n",
       "1003          0         0            0           0          0         0   \n",
       "\n",
       "      Route_TE  Route_WIL  \n",
       "1003         0          0  \n",
       "\n",
       "[1 rows x 773 columns]"
      ]
     },
     "execution_count": 39,
     "metadata": {},
     "output_type": "execute_result"
    }
   ],
   "source": [
    "print(\"X_test data for this row is :\")\n",
    "X_test.loc[[lc]]"
   ]
  },
  {
   "cell_type": "code",
   "execution_count": 40,
   "metadata": {},
   "outputs": [
    {
     "name": "stdout",
     "output_type": "stream",
     "text": [
      "Predicted Fine_Amount:  [[4.16261074]]\n",
      "Predicted Fine Amount Range below: \n"
     ]
    },
    {
     "data": {
      "text/plain": [
       "FineRange    61-70\n",
       "Catagory         4\n",
       "Name: 4, dtype: object"
      ]
     },
     "execution_count": 40,
     "metadata": {},
     "output_type": "execute_result"
    }
   ],
   "source": [
    "# Now let's predict for this value.\n",
    "p = model.predict(X_test.loc[lc].values.reshape(1,-1))\n",
    "print(\"Predicted Fine_Amount: \", p)\n",
    "p=int(np.asarray(p))\n",
    "print(\"Predicted Fine Amount Range below: \")\n",
    "df_FineRange.iloc[p]"
   ]
  },
  {
   "cell_type": "code",
   "execution_count": 41,
   "metadata": {},
   "outputs": [
    {
     "name": "stdout",
     "output_type": "stream",
     "text": [
      "You are correct this much % of times (Score):  0.5829670269168574\n"
     ]
    }
   ],
   "source": [
    "score = model.score(X_test, y_test)\n",
    "print(\"You are correct this much % of times (Score): \", score) \n",
    "\n",
    "# for 10K : You are correct this much % of times (Score):  0.574420483883838\n",
    "# For 200K: You are correct this much % of times (Score):  -2.17935748720676e+16\n"
   ]
  },
  {
   "cell_type": "code",
   "execution_count": 47,
   "metadata": {},
   "outputs": [],
   "source": [
    "# Save Model Using Pickle\n",
    "import pandas\n",
    "from sklearn import model_selection\n",
    "from sklearn.linear_model import LogisticRegression\n",
    "import pickle\n",
    "\n",
    "# Save the model to disk\n",
    "filename = '../imgs/PC_Finalized_Model.sav'\n",
    "pickle.dump(model, open(filename, 'wb'))\n",
    " "
   ]
  },
  {
   "cell_type": "code",
   "execution_count": 49,
   "metadata": {},
   "outputs": [
    {
     "name": "stdout",
     "output_type": "stream",
     "text": [
      "0.5829670269168574\n"
     ]
    }
   ],
   "source": [
    "# load the model from disk\n",
    "loaded_model = pickle.load(open(filename, 'rb'))\n",
    "result = loaded_model.score(X_test, y_test)\n",
    "print(result)"
   ]
  },
  {
   "cell_type": "code",
   "execution_count": 50,
   "metadata": {},
   "outputs": [
    {
     "name": "stdout",
     "output_type": "stream",
     "text": [
      "LinearRegression(copy_X=True, fit_intercept=True, n_jobs=1, normalize=False)\n"
     ]
    }
   ],
   "source": [
    "loaded_model.score(X_test, y_test)\n",
    "print(loaded_model)"
   ]
  },
  {
   "cell_type": "code",
   "execution_count": 42,
   "metadata": {},
   "outputs": [
    {
     "name": "stdout",
     "output_type": "stream",
     "text": [
      "MSE: 0.8208012143597246, R2: 0.5639727084931294\n"
     ]
    }
   ],
   "source": [
    "# LASSO model\n",
    "# Note: Use an alpha of .01 when creating the model for this activity\n",
    "from sklearn.linear_model import Lasso\n",
    "\n",
    "### BEGIN SOLUTION\n",
    "lasso = Lasso(alpha=.01).fit(X_train, y_train)\n",
    "\n",
    "predictions = lasso.predict(X_test)\n",
    "\n",
    "MSE = mean_squared_error(y_test, predictions)\n",
    "r2 = lasso.score(X_test, y_test)\n",
    "### END SOLUTION\n",
    "\n",
    "print(f\"MSE: {MSE}, R2: {r2}\")\n",
    "\n",
    "# For 10K  : MSE: 0.806681734793876, R2: 0.563030066338881\n",
    "# For 100K : MSE: 0.8326234133839682, R2: 0.5615448190808616\n",
    "# For 200K : MSE: 0.8639828010344125, R2: 0.5441974485805374\n",
    "# For 500K : MSE: 0.8625997859021498, R2: 0.54181783694914\n"
   ]
  },
  {
   "cell_type": "code",
   "execution_count": 43,
   "metadata": {},
   "outputs": [
    {
     "name": "stdout",
     "output_type": "stream",
     "text": [
      " (Score):  0.5829670269168574\n"
     ]
    }
   ],
   "source": [
    "scoreLasso = model.score(X_test, y_test)\n",
    "print(\" (Score): \", scoreLasso) \n",
    "\n",
    "# You are correct this much % of times (Score):  0.574420483883838"
   ]
  },
  {
   "cell_type": "code",
   "execution_count": 44,
   "metadata": {},
   "outputs": [
    {
     "name": "stdout",
     "output_type": "stream",
     "text": [
      "MSE: 0.7846606738054929, R2: 0.5831713423837339\n"
     ]
    }
   ],
   "source": [
    "# Ridge model \n",
    "# Less Overfitting possibility\n",
    "# Note: Use an alpha of .01 when creating the model for this activity\n",
    "from sklearn.linear_model import Ridge\n",
    "\n",
    "### BEGIN SOLUTION\n",
    "ridge = Ridge(alpha=.01).fit(X_train, y_train)\n",
    "\n",
    "predictions = ridge.predict(X_test)\n",
    "\n",
    "MSE = mean_squared_error(y_test, predictions)\n",
    "r2 = ridge.score(X_test, y_test)\n",
    "### END SOLUTION\n",
    "\n",
    "print(f\"MSE: {MSE}, R2: {r2}\")\n",
    "# For 10K  : MSE: 0.785030025209202, R2: 0.5747585407703522\n",
    "# For 100K : MSE: 0.7355864690647247, R2: 0.6126439718231756\n",
    "# For 200K : MSE: 0.7476993706076469, R2: 0.6055439061869502\n",
    "# For 500K : MSE: 0.7444829187495298, R2: 0.6045572933798857\n"
   ]
  },
  {
   "cell_type": "code",
   "execution_count": 45,
   "metadata": {},
   "outputs": [
    {
     "name": "stdout",
     "output_type": "stream",
     "text": [
      " (Score):  0.5829670269168574\n"
     ]
    }
   ],
   "source": [
    "scoreRidge= model.score(X_test, y_test)\n",
    "print(\" (Score): \", scoreRidge) \n",
    "\n",
    "# You are correct this much % of times (Score):  0.574420483883838"
   ]
  },
  {
   "cell_type": "code",
   "execution_count": 46,
   "metadata": {},
   "outputs": [
    {
     "name": "stdout",
     "output_type": "stream",
     "text": [
      "MSE: 0.8124092789763435, R2: 0.5684306853963077\n"
     ]
    }
   ],
   "source": [
    "# ElasticNet model\n",
    "# Note: Use an alpha of .01 when creating the model for this activity\n",
    "from sklearn.linear_model import ElasticNet\n",
    "\n",
    "### BEGIN SOLUTION\n",
    "elasticnet = ElasticNet(alpha=.01).fit(X_train, y_train)\n",
    "\n",
    "predictions = elasticnet.predict(X_test)\n",
    "\n",
    "MSE = mean_squared_error(y_test, predictions)\n",
    "r2 = elasticnet.score(X_test, y_test)\n",
    "### END SOLUTION\n",
    "\n",
    "print(f\"MSE: {MSE}, R2: {r2}\")\n",
    "# For 10K : MSE: 0.8003615147002069, R2: 0.5664536546463068\n",
    "# For 100K: MSE: 0.8285549499186874, R2: 0.5636872508886372\n",
    "# For 200K: MSE: 0.8595825850371509, R2: 0.5465188254365898\n",
    "# For 500K: MSE: 0.8578871105007005, R2: 0.5443210416154087\n"
   ]
  },
  {
   "cell_type": "code",
   "execution_count": null,
   "metadata": {},
   "outputs": [],
   "source": []
  },
  {
   "cell_type": "code",
   "execution_count": 99,
   "metadata": {},
   "outputs": [],
   "source": [
    "df_en =pd.DataFrame({\"Prediction\": predictions.flatten(), \"Actual\": y_test.flatten() })"
   ]
  },
  {
   "cell_type": "code",
   "execution_count": 100,
   "metadata": {},
   "outputs": [
    {
     "data": {
      "text/html": [
       "<div>\n",
       "<style scoped>\n",
       "    .dataframe tbody tr th:only-of-type {\n",
       "        vertical-align: middle;\n",
       "    }\n",
       "\n",
       "    .dataframe tbody tr th {\n",
       "        vertical-align: top;\n",
       "    }\n",
       "\n",
       "    .dataframe thead th {\n",
       "        text-align: right;\n",
       "    }\n",
       "</style>\n",
       "<table border=\"1\" class=\"dataframe\">\n",
       "  <thead>\n",
       "    <tr style=\"text-align: right;\">\n",
       "      <th></th>\n",
       "      <th>Prediction</th>\n",
       "      <th>Actual</th>\n",
       "    </tr>\n",
       "  </thead>\n",
       "  <tbody>\n",
       "    <tr>\n",
       "      <th>0</th>\n",
       "      <td>4.064232</td>\n",
       "      <td>4</td>\n",
       "    </tr>\n",
       "    <tr>\n",
       "      <th>1</th>\n",
       "      <td>3.873550</td>\n",
       "      <td>3</td>\n",
       "    </tr>\n",
       "    <tr>\n",
       "      <th>2</th>\n",
       "      <td>4.405750</td>\n",
       "      <td>5</td>\n",
       "    </tr>\n",
       "    <tr>\n",
       "      <th>3</th>\n",
       "      <td>4.397616</td>\n",
       "      <td>5</td>\n",
       "    </tr>\n",
       "    <tr>\n",
       "      <th>4</th>\n",
       "      <td>3.919118</td>\n",
       "      <td>3</td>\n",
       "    </tr>\n",
       "  </tbody>\n",
       "</table>\n",
       "</div>"
      ],
      "text/plain": [
       "   Prediction  Actual\n",
       "0    4.064232       4\n",
       "1    3.873550       3\n",
       "2    4.405750       5\n",
       "3    4.397616       5\n",
       "4    3.919118       3"
      ]
     },
     "execution_count": 100,
     "metadata": {},
     "output_type": "execute_result"
    }
   ],
   "source": [
    "df_en.head()"
   ]
  },
  {
   "cell_type": "code",
   "execution_count": 101,
   "metadata": {},
   "outputs": [
    {
     "name": "stdout",
     "output_type": "stream",
     "text": [
      "Sample X_test Fine_Amount:  63.0\n",
      "Predicted Value :  [[3.68860634]]\n",
      "\n",
      "Predicted Fine Amount Range for Citation: FineRange    51-60\n",
      "Catagory         3\n",
      "Name: 3, dtype: object\n"
     ]
    }
   ],
   "source": [
    "print(\"Sample X_test Fine_Amount: \", X_test[\"Fine_Amount\"].iloc[0])\n",
    "p = model.predict(X_test.iloc[0].values.reshape(1,-1))\n",
    "print(\"Predicted Value : \", p)\n",
    "p=int(np.asarray(p))\n",
    "print(\"\\nPredicted Fine Amount Range for Citation:\", df_FineRange.iloc[p])\n"
   ]
  }
 ],
 "metadata": {
  "kernelspec": {
   "display_name": "Python 3",
   "language": "python",
   "name": "python3"
  },
  "language_info": {
   "codemirror_mode": {
    "name": "ipython",
    "version": 3
   },
   "file_extension": ".py",
   "mimetype": "text/x-python",
   "name": "python",
   "nbconvert_exporter": "python",
   "pygments_lexer": "ipython3",
   "version": "3.6.8"
  }
 },
 "nbformat": 4,
 "nbformat_minor": 2
}
